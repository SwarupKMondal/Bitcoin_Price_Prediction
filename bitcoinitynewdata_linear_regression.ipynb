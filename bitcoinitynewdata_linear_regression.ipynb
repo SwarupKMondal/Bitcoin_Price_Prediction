{
 "cells": [
  {
   "cell_type": "code",
   "execution_count": 1,
   "id": "cbe76c3f",
   "metadata": {},
   "outputs": [],
   "source": [
    "import numpy as np\n",
    "import pandas as pd\n",
    "import matplotlib.pyplot as plt\n",
    "from sklearn.linear_model import LinearRegression\n"
   ]
  },
  {
   "cell_type": "code",
   "execution_count": 2,
   "id": "1af4924e",
   "metadata": {},
   "outputs": [],
   "source": [
    "bt_data = pd.read_csv(\"bitcoinity_data (1) (2).csv\")"
   ]
  },
  {
   "cell_type": "code",
   "execution_count": 3,
   "id": "5ae7f883",
   "metadata": {},
   "outputs": [
    {
     "data": {
      "text/plain": [
       "(719, 9)"
      ]
     },
     "execution_count": 3,
     "metadata": {},
     "output_type": "execute_result"
    }
   ],
   "source": [
    "bt_data.shape"
   ]
  },
  {
   "cell_type": "code",
   "execution_count": 4,
   "id": "585f10ed",
   "metadata": {},
   "outputs": [
    {
     "data": {
      "text/html": [
       "<div>\n",
       "<style scoped>\n",
       "    .dataframe tbody tr th:only-of-type {\n",
       "        vertical-align: middle;\n",
       "    }\n",
       "\n",
       "    .dataframe tbody tr th {\n",
       "        vertical-align: top;\n",
       "    }\n",
       "\n",
       "    .dataframe thead th {\n",
       "        text-align: right;\n",
       "    }\n",
       "</style>\n",
       "<table border=\"1\" class=\"dataframe\">\n",
       "  <thead>\n",
       "    <tr style=\"text-align: right;\">\n",
       "      <th></th>\n",
       "      <th>Time</th>\n",
       "      <th>bit-x</th>\n",
       "      <th>bitfinex</th>\n",
       "      <th>bitstamp</th>\n",
       "      <th>cex.io</th>\n",
       "      <th>coinbase</th>\n",
       "      <th>exmo</th>\n",
       "      <th>gemini</th>\n",
       "      <th>kraken</th>\n",
       "    </tr>\n",
       "  </thead>\n",
       "  <tbody>\n",
       "    <tr>\n",
       "      <th>0</th>\n",
       "      <td>2022-08-02 18:00:00 UTC</td>\n",
       "      <td>NaN</td>\n",
       "      <td>23150.690844</td>\n",
       "      <td>23164.785949</td>\n",
       "      <td>23193.267544</td>\n",
       "      <td>23159.428944</td>\n",
       "      <td>24577.822952</td>\n",
       "      <td>23140.965463</td>\n",
       "      <td>23149.405200</td>\n",
       "    </tr>\n",
       "    <tr>\n",
       "      <th>1</th>\n",
       "      <td>2022-08-02 19:00:00 UTC</td>\n",
       "      <td>NaN</td>\n",
       "      <td>22972.536321</td>\n",
       "      <td>22988.714704</td>\n",
       "      <td>23020.065556</td>\n",
       "      <td>22984.105414</td>\n",
       "      <td>24452.802093</td>\n",
       "      <td>22982.837683</td>\n",
       "      <td>22978.929211</td>\n",
       "    </tr>\n",
       "    <tr>\n",
       "      <th>2</th>\n",
       "      <td>2022-08-02 20:00:00 UTC</td>\n",
       "      <td>NaN</td>\n",
       "      <td>22997.143692</td>\n",
       "      <td>23006.955735</td>\n",
       "      <td>23019.280000</td>\n",
       "      <td>23002.518567</td>\n",
       "      <td>24440.039896</td>\n",
       "      <td>23002.329213</td>\n",
       "      <td>22999.053868</td>\n",
       "    </tr>\n",
       "    <tr>\n",
       "      <th>3</th>\n",
       "      <td>2022-08-02 21:00:00 UTC</td>\n",
       "      <td>NaN</td>\n",
       "      <td>23051.617788</td>\n",
       "      <td>23027.356920</td>\n",
       "      <td>23063.521311</td>\n",
       "      <td>23026.206093</td>\n",
       "      <td>24472.980923</td>\n",
       "      <td>23023.488313</td>\n",
       "      <td>23030.859688</td>\n",
       "    </tr>\n",
       "    <tr>\n",
       "      <th>4</th>\n",
       "      <td>2022-08-02 22:00:00 UTC</td>\n",
       "      <td>NaN</td>\n",
       "      <td>23097.767497</td>\n",
       "      <td>23107.634422</td>\n",
       "      <td>23124.398182</td>\n",
       "      <td>23104.737882</td>\n",
       "      <td>24543.526102</td>\n",
       "      <td>23104.375364</td>\n",
       "      <td>23106.958667</td>\n",
       "    </tr>\n",
       "  </tbody>\n",
       "</table>\n",
       "</div>"
      ],
      "text/plain": [
       "                      Time  bit-x      bitfinex      bitstamp        cex.io  \\\n",
       "0  2022-08-02 18:00:00 UTC    NaN  23150.690844  23164.785949  23193.267544   \n",
       "1  2022-08-02 19:00:00 UTC    NaN  22972.536321  22988.714704  23020.065556   \n",
       "2  2022-08-02 20:00:00 UTC    NaN  22997.143692  23006.955735  23019.280000   \n",
       "3  2022-08-02 21:00:00 UTC    NaN  23051.617788  23027.356920  23063.521311   \n",
       "4  2022-08-02 22:00:00 UTC    NaN  23097.767497  23107.634422  23124.398182   \n",
       "\n",
       "       coinbase          exmo        gemini        kraken  \n",
       "0  23159.428944  24577.822952  23140.965463  23149.405200  \n",
       "1  22984.105414  24452.802093  22982.837683  22978.929211  \n",
       "2  23002.518567  24440.039896  23002.329213  22999.053868  \n",
       "3  23026.206093  24472.980923  23023.488313  23030.859688  \n",
       "4  23104.737882  24543.526102  23104.375364  23106.958667  "
      ]
     },
     "execution_count": 4,
     "metadata": {},
     "output_type": "execute_result"
    }
   ],
   "source": [
    "bt_data.head()"
   ]
  },
  {
   "cell_type": "code",
   "execution_count": 5,
   "id": "47fb236f",
   "metadata": {},
   "outputs": [],
   "source": [
    "bt_data = bt_data.fillna(0)"
   ]
  },
  {
   "cell_type": "code",
   "execution_count": 6,
   "id": "fbcbd177",
   "metadata": {},
   "outputs": [
    {
     "data": {
      "text/html": [
       "<div>\n",
       "<style scoped>\n",
       "    .dataframe tbody tr th:only-of-type {\n",
       "        vertical-align: middle;\n",
       "    }\n",
       "\n",
       "    .dataframe tbody tr th {\n",
       "        vertical-align: top;\n",
       "    }\n",
       "\n",
       "    .dataframe thead th {\n",
       "        text-align: right;\n",
       "    }\n",
       "</style>\n",
       "<table border=\"1\" class=\"dataframe\">\n",
       "  <thead>\n",
       "    <tr style=\"text-align: right;\">\n",
       "      <th></th>\n",
       "      <th>Time</th>\n",
       "      <th>bit-x</th>\n",
       "      <th>bitfinex</th>\n",
       "      <th>bitstamp</th>\n",
       "      <th>cex.io</th>\n",
       "      <th>coinbase</th>\n",
       "      <th>exmo</th>\n",
       "      <th>gemini</th>\n",
       "      <th>kraken</th>\n",
       "    </tr>\n",
       "  </thead>\n",
       "  <tbody>\n",
       "    <tr>\n",
       "      <th>0</th>\n",
       "      <td>2022-08-02 18:00:00 UTC</td>\n",
       "      <td>0.0</td>\n",
       "      <td>23150.690844</td>\n",
       "      <td>23164.785949</td>\n",
       "      <td>23193.267544</td>\n",
       "      <td>23159.428944</td>\n",
       "      <td>24577.822952</td>\n",
       "      <td>23140.965463</td>\n",
       "      <td>23149.405200</td>\n",
       "    </tr>\n",
       "    <tr>\n",
       "      <th>1</th>\n",
       "      <td>2022-08-02 19:00:00 UTC</td>\n",
       "      <td>0.0</td>\n",
       "      <td>22972.536321</td>\n",
       "      <td>22988.714704</td>\n",
       "      <td>23020.065556</td>\n",
       "      <td>22984.105414</td>\n",
       "      <td>24452.802093</td>\n",
       "      <td>22982.837683</td>\n",
       "      <td>22978.929211</td>\n",
       "    </tr>\n",
       "    <tr>\n",
       "      <th>2</th>\n",
       "      <td>2022-08-02 20:00:00 UTC</td>\n",
       "      <td>0.0</td>\n",
       "      <td>22997.143692</td>\n",
       "      <td>23006.955735</td>\n",
       "      <td>23019.280000</td>\n",
       "      <td>23002.518567</td>\n",
       "      <td>24440.039896</td>\n",
       "      <td>23002.329213</td>\n",
       "      <td>22999.053868</td>\n",
       "    </tr>\n",
       "    <tr>\n",
       "      <th>3</th>\n",
       "      <td>2022-08-02 21:00:00 UTC</td>\n",
       "      <td>0.0</td>\n",
       "      <td>23051.617788</td>\n",
       "      <td>23027.356920</td>\n",
       "      <td>23063.521311</td>\n",
       "      <td>23026.206093</td>\n",
       "      <td>24472.980923</td>\n",
       "      <td>23023.488313</td>\n",
       "      <td>23030.859688</td>\n",
       "    </tr>\n",
       "    <tr>\n",
       "      <th>4</th>\n",
       "      <td>2022-08-02 22:00:00 UTC</td>\n",
       "      <td>0.0</td>\n",
       "      <td>23097.767497</td>\n",
       "      <td>23107.634422</td>\n",
       "      <td>23124.398182</td>\n",
       "      <td>23104.737882</td>\n",
       "      <td>24543.526102</td>\n",
       "      <td>23104.375364</td>\n",
       "      <td>23106.958667</td>\n",
       "    </tr>\n",
       "  </tbody>\n",
       "</table>\n",
       "</div>"
      ],
      "text/plain": [
       "                      Time  bit-x      bitfinex      bitstamp        cex.io  \\\n",
       "0  2022-08-02 18:00:00 UTC    0.0  23150.690844  23164.785949  23193.267544   \n",
       "1  2022-08-02 19:00:00 UTC    0.0  22972.536321  22988.714704  23020.065556   \n",
       "2  2022-08-02 20:00:00 UTC    0.0  22997.143692  23006.955735  23019.280000   \n",
       "3  2022-08-02 21:00:00 UTC    0.0  23051.617788  23027.356920  23063.521311   \n",
       "4  2022-08-02 22:00:00 UTC    0.0  23097.767497  23107.634422  23124.398182   \n",
       "\n",
       "       coinbase          exmo        gemini        kraken  \n",
       "0  23159.428944  24577.822952  23140.965463  23149.405200  \n",
       "1  22984.105414  24452.802093  22982.837683  22978.929211  \n",
       "2  23002.518567  24440.039896  23002.329213  22999.053868  \n",
       "3  23026.206093  24472.980923  23023.488313  23030.859688  \n",
       "4  23104.737882  24543.526102  23104.375364  23106.958667  "
      ]
     },
     "execution_count": 6,
     "metadata": {},
     "output_type": "execute_result"
    }
   ],
   "source": [
    "bt_data.head()"
   ]
  },
  {
   "cell_type": "code",
   "execution_count": 7,
   "id": "c62ec049",
   "metadata": {},
   "outputs": [
    {
     "data": {
      "text/plain": [
       "Time        0\n",
       "bit-x       0\n",
       "bitfinex    0\n",
       "bitstamp    0\n",
       "cex.io      0\n",
       "coinbase    0\n",
       "exmo        0\n",
       "gemini      0\n",
       "kraken      0\n",
       "dtype: int64"
      ]
     },
     "execution_count": 7,
     "metadata": {},
     "output_type": "execute_result"
    }
   ],
   "source": [
    "bt_data.isnull().sum()"
   ]
  },
  {
   "cell_type": "code",
   "execution_count": 8,
   "id": "4ebcdaa3",
   "metadata": {},
   "outputs": [
    {
     "data": {
      "text/plain": [
       "<AxesSubplot:>"
      ]
     },
     "execution_count": 8,
     "metadata": {},
     "output_type": "execute_result"
    },
    {
     "data": {
      "image/png": "[encoded data removed]",
      "text/plain": [
       "<Figure size 1152x432 with 1 Axes>"
      ]
     },
     "metadata": {
      "needs_background": "light"
     },
     "output_type": "display_data"
    }
   ],
   "source": [
    "bt_data['bitfinex'].plot(figsize=(16,6))"
   ]
  },
  {
   "cell_type": "code",
   "execution_count": 9,
   "id": "9c2c9dd5",
   "metadata": {},
   "outputs": [],
   "source": [
    "X= bt_data[['bit-x','bitfinex', 'bitstamp', 'cex.io', 'coinbase', 'exmo', 'gemini']]\n",
    "y = bt_data['kraken']"
   ]
  },
  {
   "cell_type": "code",
   "execution_count": 10,
   "id": "a20582f7",
   "metadata": {},
   "outputs": [],
   "source": [
    "from sklearn.model_selection import train_test_split\n",
    "X_train, X_test, y_train, y_test = train_test_split(X, y, test_size=0.30, random_state=40)"
   ]
  },
  {
   "cell_type": "code",
   "execution_count": 11,
   "id": "7ad221d3",
   "metadata": {},
   "outputs": [],
   "source": [
    "from sklearn.linear_model import LinearRegression\n",
    "from sklearn.metrics import confusion_matrix, accuracy_score\n",
    "regression = LinearRegression()"
   ]
  },
  {
   "cell_type": "code",
   "execution_count": 12,
   "id": "43881637",
   "metadata": {},
   "outputs": [
    {
     "data": {
      "text/plain": [
       "LinearRegression()"
      ]
     },
     "execution_count": 12,
     "metadata": {},
     "output_type": "execute_result"
    }
   ],
   "source": [
    "regression.fit(X_train, y_train)"
   ]
  },
  {
   "cell_type": "code",
   "execution_count": 13,
   "id": "5a7408d0",
   "metadata": {},
   "outputs": [],
   "source": [
    "prediction = regression.predict(X_test)"
   ]
  },
  {
   "cell_type": "code",
   "execution_count": 14,
   "id": "631127e7",
   "metadata": {},
   "outputs": [],
   "source": [
    "from sklearn.metrics import accuracy_score, confusion_matrix"
   ]
  },
  {
   "cell_type": "code",
   "execution_count": 15,
   "id": "86138eaf",
   "metadata": {},
   "outputs": [
    {
     "data": {
      "text/plain": [
       "0.9999611964972183"
      ]
     },
     "execution_count": 15,
     "metadata": {},
     "output_type": "execute_result"
    }
   ],
   "source": [
    "regression.score(X_train, y_train)"
   ]
  },
  {
   "cell_type": "code",
   "execution_count": 16,
   "id": "4a2cc80d",
   "metadata": {},
   "outputs": [
    {
     "data": {
      "text/plain": [
       "0.999965965152445"
      ]
     },
     "execution_count": 16,
     "metadata": {},
     "output_type": "execute_result"
    }
   ],
   "source": [
    "regression.score(X_test, y_test)"
   ]
  },
  {
   "cell_type": "code",
   "execution_count": 17,
   "id": "d7c89d0f",
   "metadata": {},
   "outputs": [
    {
     "data": {
      "text/plain": [
       "(503, 7)"
      ]
     },
     "execution_count": 17,
     "metadata": {},
     "output_type": "execute_result"
    }
   ],
   "source": [
    "X_train.shape"
   ]
  },
  {
   "cell_type": "code",
   "execution_count": 18,
   "id": "07fc746e",
   "metadata": {},
   "outputs": [
    {
     "data": {
      "text/plain": [
       "(216, 7)"
      ]
     },
     "execution_count": 18,
     "metadata": {},
     "output_type": "execute_result"
    }
   ],
   "source": [
    "X_test.shape"
   ]
  },
  {
   "cell_type": "code",
   "execution_count": 19,
   "id": "9107726d",
   "metadata": {},
   "outputs": [
    {
     "data": {
      "text/plain": [
       "(216,)"
      ]
     },
     "execution_count": 19,
     "metadata": {},
     "output_type": "execute_result"
    }
   ],
   "source": [
    "y_test.shape\n"
   ]
  },
  {
   "cell_type": "code",
   "execution_count": 20,
   "id": "2e7a84dd",
   "metadata": {},
   "outputs": [
    {
     "data": {
      "text/plain": [
       "(503,)"
      ]
     },
     "execution_count": 20,
     "metadata": {},
     "output_type": "execute_result"
    }
   ],
   "source": [
    "y_train.shape"
   ]
  },
  {
   "cell_type": "code",
   "execution_count": 21,
   "id": "4f927869",
   "metadata": {},
   "outputs": [],
   "source": [
    "graph = bt_data.head(25)"
   ]
  },
  {
   "cell_type": "code",
   "execution_count": 22,
   "id": "0c5534ca",
   "metadata": {},
   "outputs": [
    {
     "data": {
      "text/plain": [
       "<AxesSubplot:>"
      ]
     },
     "execution_count": 22,
     "metadata": {},
     "output_type": "execute_result"
    },
    {
     "data": {
      "image/png": "[encoded data removed]",
      "text/plain": [
       "<Figure size 432x288 with 1 Axes>"
      ]
     },
     "metadata": {
      "needs_background": "light"
     },
     "output_type": "display_data"
    }
   ],
   "source": [
    "graph.plot(kind='bar')"
   ]
  },
  {
   "cell_type": "code",
   "execution_count": null,
   "id": "15fedfad",
   "metadata": {},
   "outputs": [],
   "source": []
  }
 ],
 "metadata": {
  "kernelspec": {
   "display_name": "Python 3",
   "language": "python",
   "name": "python3"
  },
  "language_info": {
   "codemirror_mode": {
    "name": "ipython",
    "version": 3
   },
   "file_extension": ".py",
   "mimetype": "text/x-python",
   "name": "python",
   "nbconvert_exporter": "python",
   "pygments_lexer": "ipython3",
   "version": "3.8.8"
  }
 },
 "nbformat": 4,
 "nbformat_minor": 5
}
